{
 "cells": [
  {
   "cell_type": "markdown",
   "metadata": {},
   "source": [
    "# Hyper-Parameters\n",
    "1. Wavelet\n",
    "2. Peak height\n",
    "3. Peak width"
   ]
  },
  {
   "cell_type": "code",
   "execution_count": 12,
   "metadata": {},
   "outputs": [],
   "source": [
    "import matplotlib.pyplot as plt\n",
    "import numpy as np\n",
    "import pandas as pd\n",
    "from pathlib import Path\n",
    "from pprint import pprint as pp\n",
    "from pyarrow import parquet as pq\n",
    "import pywt\n",
    "from scipy import signal as dsp\n",
    "import seaborn as sns\n",
    "from sklearn.externals import joblib\n",
    "import yaml\n",
    "\n",
    "from lib.utils import get_data_generator\n",
    "\n",
    "sns.set()"
   ]
  },
  {
   "cell_type": "code",
   "execution_count": 13,
   "metadata": {},
   "outputs": [],
   "source": [
    "with open('../config.yaml', 'r') as f:\n",
    "    cfg = yaml.load(f)\n",
    "\n",
    "DATA_DIR = '../data'\n",
    "test_start = 8712  # TODO: What is this?"
   ]
  },
  {
   "cell_type": "code",
   "execution_count": 14,
   "metadata": {},
   "outputs": [
    {
     "ename": "UnboundLocalError",
     "evalue": "local variable 'meta' referenced before assignment",
     "output_type": "error",
     "traceback": [
      "\u001b[0;31m---------------------------------------------------------------------------\u001b[0m",
      "\u001b[0;31mUnboundLocalError\u001b[0m                         Traceback (most recent call last)",
      "\u001b[0;32m<ipython-input-14-348f9f971b2d>\u001b[0m in \u001b[0;36m<module>\u001b[0;34m\u001b[0m\n\u001b[1;32m      1\u001b[0m \u001b[0mtrain_gen\u001b[0m \u001b[0;34m=\u001b[0m \u001b[0mget_data_generator\u001b[0m\u001b[0;34m(\u001b[0m\u001b[0;34m'train'\u001b[0m\u001b[0;34m,\u001b[0m \u001b[0mcfg\u001b[0m\u001b[0;34m.\u001b[0m\u001b[0mget\u001b[0m\u001b[0;34m(\u001b[0m\u001b[0;34m'num_lines'\u001b[0m\u001b[0;34m)\u001b[0m\u001b[0;34m)\u001b[0m\u001b[0;34m\u001b[0m\u001b[0;34m\u001b[0m\u001b[0m\n\u001b[0;32m----> 2\u001b[0;31m \u001b[0mtrain\u001b[0m\u001b[0;34m,\u001b[0m \u001b[0mmeta_train\u001b[0m \u001b[0;34m=\u001b[0m \u001b[0mnext\u001b[0m\u001b[0;34m(\u001b[0m\u001b[0mtrain_gen\u001b[0m\u001b[0;34m)\u001b[0m\u001b[0;34m\u001b[0m\u001b[0;34m\u001b[0m\u001b[0m\n\u001b[0m\u001b[1;32m      3\u001b[0m \u001b[0mtest_gen\u001b[0m \u001b[0;34m=\u001b[0m \u001b[0mget_data_generator\u001b[0m\u001b[0;34m(\u001b[0m\u001b[0;34m'test'\u001b[0m\u001b[0;34m,\u001b[0m \u001b[0mcfg\u001b[0m\u001b[0;34m.\u001b[0m\u001b[0mget\u001b[0m\u001b[0;34m(\u001b[0m\u001b[0;34m'num_lines'\u001b[0m\u001b[0;34m)\u001b[0m\u001b[0;34m)\u001b[0m\u001b[0;34m\u001b[0m\u001b[0;34m\u001b[0m\u001b[0m\n\u001b[1;32m      4\u001b[0m \u001b[0mtest\u001b[0m\u001b[0;34m,\u001b[0m \u001b[0mmeta_test\u001b[0m \u001b[0;34m=\u001b[0m \u001b[0mnext\u001b[0m\u001b[0;34m(\u001b[0m\u001b[0mtest_gen\u001b[0m\u001b[0;34m)\u001b[0m\u001b[0;34m\u001b[0m\u001b[0;34m\u001b[0m\u001b[0m\n",
      "\u001b[0;32m~/projects/vsb_power_line/src/lib/utils.py\u001b[0m in \u001b[0;36mget_data_generator\u001b[0;34m(data_type, num_lines_per_batch)\u001b[0m\n\u001b[1;32m     22\u001b[0m             \u001b[0mcolumns\u001b[0m\u001b[0;34m=\u001b[0m\u001b[0;34m[\u001b[0m\u001b[0mstr\u001b[0m\u001b[0;34m(\u001b[0m\u001b[0mi\u001b[0m\u001b[0;34m)\u001b[0m \u001b[0;32mfor\u001b[0m \u001b[0mi\u001b[0m \u001b[0;32min\u001b[0m \u001b[0mrange\u001b[0m\u001b[0;34m(\u001b[0m\u001b[0mstart\u001b[0m\u001b[0;34m,\u001b[0m \u001b[0mend\u001b[0m\u001b[0;34m)\u001b[0m\u001b[0;34m]\u001b[0m\u001b[0;34m\u001b[0m\u001b[0;34m\u001b[0m\u001b[0m\n\u001b[1;32m     23\u001b[0m         ).to_pandas().values.T\n\u001b[0;32m---> 24\u001b[0;31m         \u001b[0mmeta\u001b[0m \u001b[0;34m=\u001b[0m \u001b[0mmeta\u001b[0m\u001b[0;34m.\u001b[0m\u001b[0miloc\u001b[0m\u001b[0;34m[\u001b[0m\u001b[0mstart\u001b[0m\u001b[0;34m:\u001b[0m \u001b[0mend\u001b[0m\u001b[0;34m]\u001b[0m\u001b[0;34m\u001b[0m\u001b[0;34m\u001b[0m\u001b[0m\n\u001b[0m\u001b[1;32m     25\u001b[0m         \u001b[0mstart\u001b[0m \u001b[0;34m=\u001b[0m \u001b[0mend\u001b[0m\u001b[0;34m\u001b[0m\u001b[0;34m\u001b[0m\u001b[0m\n\u001b[1;32m     26\u001b[0m         \u001b[0;32myield\u001b[0m \u001b[0mdata\u001b[0m\u001b[0;34m,\u001b[0m \u001b[0mmeta\u001b[0m\u001b[0;34m\u001b[0m\u001b[0;34m\u001b[0m\u001b[0m\n",
      "\u001b[0;31mUnboundLocalError\u001b[0m: local variable 'meta' referenced before assignment"
     ]
    }
   ],
   "source": [
    "train_gen = get_data_generator('train', cfg.get('num_lines'))\n",
    "train, meta_train = next(train_gen)\n",
    "test_gen = get_data_generator('test', cfg.get('num_lines'))\n",
    "test, meta_test = next(test_gen)"
   ]
  },
  {
   "cell_type": "code",
   "execution_count": null,
   "metadata": {},
   "outputs": [],
   "source": [
    "# Select random signal with all 3 phases\n",
    "idx = np.random.randint(train.shape[0] / 3) * 3\n",
    "signal = train[idx: idx + 3]\n",
    "meta = meta_train.iloc[idx: idx + 3]\n",
    "\n",
    "fig, ax = plt.subplots(3, 1, sharex='col')\n",
    "for count in range(3):\n",
    "    plt.subplot(((count + 1) * 1) + 310)\n",
    "    plt.plot(train[idx + count])\n",
    "fig.subplots_adjust(hspace=0.4, wspace=0.4)\n",
    "plt.suptitle(\"Training Examples: {} {}\".format(meta_train.iloc[idx + count].target,\n",
    "                                               meta.id_measurement.values))"
   ]
  },
  {
   "cell_type": "code",
   "execution_count": null,
   "metadata": {},
   "outputs": [],
   "source": [
    "wavelet = cfg.get('mother_wavelet')\n",
    "level = cfg.get('decomposition_level')\n",
    "\n",
    "cA, cD = list(), list()\n",
    "for phase in signal:\n",
    "    cA_, *cD_ = pywt.wavedec(phase, wavelet, level=level)\n",
    "    cA.append(cA_)\n",
    "    cD.append(cD_[0])\n",
    "\n",
    "%matplotlib inline\n",
    "plt.plot(cD[0])\n",
    "plt.plot(cA[0])\n",
    "plt.show()"
   ]
  },
  {
   "cell_type": "code",
   "execution_count": null,
   "metadata": {},
   "outputs": [],
   "source": [
    "def sort_and_reindex_peaks(df):\n",
    "    df = df.sort_values('peak_index', inplace=False)\n",
    "    df = df.reset_index(inplace=False, drop=True)\n",
    "    return df"
   ]
  },
  {
   "cell_type": "code",
   "execution_count": null,
   "metadata": {},
   "outputs": [],
   "source": [
    "def get_peak_info(cD):\n",
    "    args = cfg.get('peak_finder_args')\n",
    "    peaks, pinfo = dsp.find_peaks(cD, **args)\n",
    "    pinfo.update({'peak_index': peaks})\n",
    "\n",
    "    valleys, vinfo = dsp.find_peaks(-cD, **args)\n",
    "    if 'peak_heights' in vinfo:\n",
    "        vinfo.update({'peak_heights': -vinfo.get('peak_heights')})\n",
    "    vinfo.update({'peak_index': valleys})\n",
    "    \n",
    "    return pd.concat([pd.DataFrame(pinfo), pd.DataFrame(vinfo)])"
   ]
  },
  {
   "cell_type": "code",
   "execution_count": null,
   "metadata": {},
   "outputs": [],
   "source": [
    "%matplotlib inline\n",
    "\n",
    "Y_LIM = 200\n",
    "\n",
    "def plot_phases(dfs):\n",
    "    fig, ax = plt.subplots(3, 1, figsize=(22, 12), sharex=True)\n",
    "    fig.suptitle(\"Measurements: {}, Targets: {}\".format(meta.id_measurement.values,\n",
    "                                                        meta.target.values), size=22)\n",
    "    for i, sig in enumerate(cD):\n",
    "        peak_marks = list(dfs[i].peak_index.values)\n",
    "        ax[i].plot(cD[i], 'o', ls='-', markerfacecolor='r', markevery=peak_marks)\n",
    "        ax[i].set_title(\"Peaks: {}\".format(dfs[i].peak_index.count()))\n",
    "        ax[i].set_xlim([0, len(cD[i])])\n",
    "        ax[i].set_ylim([-Y_LIM, Y_LIM])\n",
    "    plt.show()"
   ]
  },
  {
   "cell_type": "code",
   "execution_count": null,
   "metadata": {},
   "outputs": [],
   "source": [
    "def within_ratio(h1, h2, ratio):\n",
    "    \"\"\"Check if h2 (height2) has the opposite sign of h1 (height1)\n",
    "    and is smaller by an amount within the given ratio\n",
    "    \"\"\"\n",
    "    resp = False\n",
    "    if (h1 < 0 and h2 > 0) or (h1 > 0 and h2 < 0):\n",
    "        if (((abs(h1) * (1 - ratio)) < abs(h2)) and ((abs(h1) * (1 + ratio)) > abs(h2))):\n",
    "            resp = True\n",
    "    return resp\n",
    "\n",
    "def remove_symmetric_pulses(df, height_ratio, max_dist, train_len):\n",
    "    working_df = df.copy()\n",
    "    to_remove = set()\n",
    "    skip_until = -1 \n",
    "    train_count = 0\n",
    "    for idx, row in df.iterrows():\n",
    "        # If indexes were already added to to_remove then we don't want to check the pulses\n",
    "        if idx < skip_until:\n",
    "            continue\n",
    "        # if the next peak is within max_dist...\n",
    "        try:\n",
    "            if (row.peak_index + max_dist) >= df.iloc[idx + 1].peak_index:\n",
    "                # ...and if the height is within height_ratio...\n",
    "                if within_ratio(row.peak_heights, df.iloc[idx + 1].peak_heights, height_ratio):\n",
    "                    # ...remove the symmetric pulses and the pulse train\n",
    "                    to_remove.update([idx, idx + 1])\n",
    "                    h2_index = df.iloc[idx + 1].peak_index\n",
    "                    train = df[df.peak_index.between(h2_index, h2_index + train_len)]\n",
    "                    train_count += len(train)\n",
    "                    skip_until = train.index.values[-1]\n",
    "                    to_remove.update(train.index.values)\n",
    "        except IndexError:\n",
    "            # End of df\n",
    "            break\n",
    "    for i in to_remove:\n",
    "        working_df.drop(index=i, inplace=True)\n",
    "    return working_df"
   ]
  },
  {
   "cell_type": "code",
   "execution_count": null,
   "metadata": {},
   "outputs": [],
   "source": [
    "dfs = [sort_and_reindex_peaks(get_peak_info(sig)) for sig in cD]\n",
    "plot_phases(dfs)"
   ]
  },
  {
   "cell_type": "code",
   "execution_count": null,
   "metadata": {
    "scrolled": true
   },
   "outputs": [],
   "source": [
    "# Index 103 is good for canceling symmetric peaks\n",
    "\n",
    "max_height = cfg.get('max_height')\n",
    "height_ratio = cfg.get('max_height_ratio')\n",
    "max_dist = cfg.get('max_distance')\n",
    "max_peaks = cfg.get('max_ticks_removal')\n",
    "trimmed_dfs = [remove_symmetric_pulses(df, height_ratio, max_dist, max_peaks) for df in dfs]\n",
    "trimmed_dfs = [df[abs(df.peak_heights) < max_height] for df in trimmed_dfs]\n",
    "trimmed_dfs = [sort_and_reindex_peaks(df) for df in trimmed_dfs]\n",
    "plot_phases(trimmed_dfs)"
   ]
  }
 ],
 "metadata": {
  "kernelspec": {
   "display_name": "Python 3",
   "language": "python",
   "name": "python3"
  },
  "language_info": {
   "codemirror_mode": {
    "name": "ipython",
    "version": 3
   },
   "file_extension": ".py",
   "mimetype": "text/x-python",
   "name": "python",
   "nbconvert_exporter": "python",
   "pygments_lexer": "ipython3",
   "version": "3.7.2"
  }
 },
 "nbformat": 4,
 "nbformat_minor": 2
}
