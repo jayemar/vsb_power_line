{
 "cells": [
  {
   "cell_type": "markdown",
   "metadata": {},
   "source": [
    "# Verify Phases\n",
    "Verify that all 3 phases exist for all signals"
   ]
  },
  {
   "cell_type": "code",
   "execution_count": 1,
   "metadata": {},
   "outputs": [],
   "source": [
    "import matplotlib.pyplot as plt\n",
    "import numpy as np\n",
    "import pandas as pd\n",
    "from pathlib import Path\n",
    "from pprint import pprint as pp\n",
    "from pyarrow import parquet as pq\n",
    "import pywt\n",
    "from scipy import signal as dsp\n",
    "import seaborn as sns\n",
    "from sklearn.externals import joblib\n",
    "\n",
    "sns.set()"
   ]
  },
  {
   "cell_type": "code",
   "execution_count": 3,
   "metadata": {},
   "outputs": [],
   "source": [
    "DATA_DIR = '../../data'"
   ]
  },
  {
   "cell_type": "code",
   "execution_count": 4,
   "metadata": {},
   "outputs": [
    {
     "name": "stdout",
     "output_type": "stream",
     "text": [
      "Loop complete\n"
     ]
    }
   ],
   "source": [
    "meta_train = pd.read_csv(Path(DATA_DIR, 'metadata_train.csv'))\n",
    "for idx in np.arange(0, meta_train.shape[0], 3):\n",
    "    if np.sum(np.diff(meta_train.iloc[idx: idx + 3].id_measurement.values)):\n",
    "        print(\"Problem at index {}\".format(idx))\n",
    "print(\"Loop complete\")"
   ]
  },
  {
   "cell_type": "code",
   "execution_count": 5,
   "metadata": {},
   "outputs": [
    {
     "name": "stdout",
     "output_type": "stream",
     "text": [
      "Loop complete\n"
     ]
    }
   ],
   "source": [
    "meta_test = pd.read_csv(Path(DATA_DIR, 'metadata_test.csv'))\n",
    "for idx in np.arange(0, meta_test.shape[0], 3):\n",
    "    if np.sum(np.diff(meta_test.iloc[idx: idx + 3].id_measurement.values)):\n",
    "        print(\"Problem at index {}\".format(idx))\n",
    "print(\"Loop complete\")"
   ]
  }
 ],
 "metadata": {
  "kernelspec": {
   "display_name": "Python 3",
   "language": "python",
   "name": "python3"
  },
  "language_info": {
   "codemirror_mode": {
    "name": "ipython",
    "version": 3
   },
   "file_extension": ".py",
   "mimetype": "text/x-python",
   "name": "python",
   "nbconvert_exporter": "python",
   "pygments_lexer": "ipython3",
   "version": "3.7.2"
  }
 },
 "nbformat": 4,
 "nbformat_minor": 2
}
